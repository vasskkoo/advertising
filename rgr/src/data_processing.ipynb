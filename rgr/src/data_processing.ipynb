{
 "cells": [
  {
   "cell_type": "code",
   "execution_count": 1,
   "metadata": {},
   "outputs": [],
   "source": [
    "# Імпортуємо необхідні бібліотеки\n",
    "import pandas as pd\n",
    "from sklearn.preprocessing import StandardScaler, LabelEncoder\n",
    "from sklearn.impute import SimpleImputer"
   ]
  },
  {
   "cell_type": "code",
   "execution_count": 2,
   "metadata": {},
   "outputs": [],
   "source": [
    "# Зчитуємо вхідний датасет\n",
    "data = pd.read_csv(\"/Users/mac/Desktop/rgr/data/Advertising.csv\")"
   ]
  },
  {
   "cell_type": "code",
   "execution_count": 3,
   "metadata": {},
   "outputs": [],
   "source": [
    "# Обробка пропущених значень\n",
    "imputer = SimpleImputer(strategy=\"mean\")  # Ви можете вибрати іншу стратегію\n",
    "data_imputed = pd.DataFrame(imputer.fit_transform(data), columns=data.columns)"
   ]
  },
  {
   "cell_type": "code",
   "execution_count": 4,
   "metadata": {},
   "outputs": [],
   "source": [
    "\n",
    "# Кодування категоріальних ознак\n",
    "encoder = LabelEncoder()\n",
    "data_encoded = data_imputed.copy()\n",
    "cat_cols = data.select_dtypes(include=[\"object\"]).columns\n",
    "for col in cat_cols:\n",
    "    data_encoded[col] = encoder.fit_transform(data_imputed[col])"
   ]
  },
  {
   "cell_type": "code",
   "execution_count": 5,
   "metadata": {},
   "outputs": [],
   "source": [
    "# Масштабування числових ознак\n",
    "scaler = StandardScaler()\n",
    "num_cols = data.select_dtypes(include=[\"int64\", \"float64\"]).columns\n",
    "data_scaled = data_encoded.copy()\n",
    "data_scaled[num_cols] = scaler.fit_transform(data_encoded[num_cols])"
   ]
  },
  {
   "cell_type": "code",
   "execution_count": 6,
   "metadata": {},
   "outputs": [],
   "source": [
    "\n",
    "# Збереження оброблених даних\n",
    "data_scaled.to_csv(\"/Users/mac/Desktop/rgr/data/new_adv.csv\", index=False)"
   ]
  }
 ],
 "metadata": {
  "kernelspec": {
   "display_name": "Python 3",
   "language": "python",
   "name": "python3"
  },
  "language_info": {
   "codemirror_mode": {
    "name": "ipython",
    "version": 3
   },
   "file_extension": ".py",
   "mimetype": "text/x-python",
   "name": "python",
   "nbconvert_exporter": "python",
   "pygments_lexer": "ipython3",
   "version": "3.9.6"
  }
 },
 "nbformat": 4,
 "nbformat_minor": 2
}
