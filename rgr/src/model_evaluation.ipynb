{
 "cells": [
  {
   "cell_type": "code",
   "execution_count": 19,
   "metadata": {},
   "outputs": [],
   "source": [
    "# Імпортуємо необхідні бібліотеки\n",
    "import pandas as pd\n",
    "from sklearn.model_selection import train_test_split, GridSearchCV\n",
    "from sklearn.linear_model import Ridge, Lasso\n",
    "from sklearn.tree import DecisionTreeRegressor\n",
    "from sklearn.metrics import r2_score"
   ]
  },
  {
   "cell_type": "code",
   "execution_count": 4,
   "metadata": {},
   "outputs": [],
   "source": [
    "# Зчитуємо оброблені дані\n",
    "data = pd.read_csv(\"/Users/mac/Desktop/university/for third/2 семестр/ітсс/rgr/data/new_adv.csv\")"
   ]
  },
  {
   "cell_type": "code",
   "execution_count": 5,
   "metadata": {},
   "outputs": [],
   "source": [
    "# Розділяємо дані на ознаки (X) та цільову змінну (y)\n",
    "X = data.drop(\"Sales\", axis=1)\n",
    "y = data[\"Sales\"]"
   ]
  },
  {
   "cell_type": "code",
   "execution_count": 6,
   "metadata": {},
   "outputs": [],
   "source": [
    "# Розділяємо дані на тренувальний та тестовий набори\n",
    "X_train, X_test, y_train, y_test = train_test_split(X, y, test_size=0.2, random_state=42)"
   ]
  },
  {
   "cell_type": "code",
   "execution_count": 15,
   "metadata": {},
   "outputs": [
    {
     "name": "stdout",
     "output_type": "stream",
     "text": [
      "Найкращі гіперпараметри:  {'alpha': 1}\n",
      "Коефіцієнт детермінації (R²): 0.897986103673465\n"
     ]
    }
   ],
   "source": [
    "# Розділення даних на навчальні та тестові набори\n",
    "X_train, X_test, y_train, y_test = train_test_split(X, y, test_size=0.2, random_state=42)\n",
    "\n",
    "# Створення моделі Ridge регресії\n",
    "ridge = Ridge()\n",
    "\n",
    "# Визначення діапазону гіперпараметрів для Grid Search\n",
    "param_grid = {\n",
    "    'alpha': [0.1, 1, 10, 100]\n",
    "}\n",
    "\n",
    "# Налаштування Grid Search\n",
    "grid_search = GridSearchCV(estimator=ridge, param_grid=param_grid, cv=5, scoring='r2')\n",
    "\n",
    "# Навчання моделі з підбором гіперпараметрів\n",
    "grid_search.fit(X_train, y_train)\n",
    "\n",
    "# Найкращі гіперпараметри\n",
    "best_params = grid_search.best_params_\n",
    "print(\"Найкращі гіперпараметри: \", best_params)\n",
    "\n",
    "# Найкраща модель\n",
    "best_model = grid_search.best_estimator_\n",
    "\n",
    "# Прогнозування на тестовому наборі\n",
    "y_pred = best_model.predict(X_test)\n",
    "\n",
    "# Оцінка моделі за допомогою R²\n",
    "r2 = r2_score(y_test, y_pred)\n",
    "print(\"Коефіцієнт детермінації (R²):\", r2)"
   ]
  },
  {
   "cell_type": "code",
   "execution_count": 18,
   "metadata": {},
   "outputs": [
    {
     "name": "stdout",
     "output_type": "stream",
     "text": [
      "Найкращі гіперпараметри для Lasso:  {'alpha': 0.01}\n",
      "Коефіцієнт детермінації (R²) для Lasso: 0.8993021159966726\n"
     ]
    }
   ],
   "source": [
    "# Розділення даних на навчальні та тестові набори\n",
    "X_train, X_test, y_train, y_test = train_test_split(X, y, test_size=0.2, random_state=42)\n",
    "\n",
    "# Створення моделі Lasso регресії\n",
    "lasso = Lasso(max_iter=10000)\n",
    "\n",
    "# Визначення діапазону гіперпараметрів для Grid Search\n",
    "param_grid = {\n",
    "    'alpha': [0.01, 0.1, 1, 10, 100]\n",
    "}\n",
    "\n",
    "# Налаштування Grid Search\n",
    "grid_search = GridSearchCV(estimator=lasso, param_grid=param_grid, cv=5, scoring='r2')\n",
    "\n",
    "# Навчання моделі з підбором гіперпараметрів\n",
    "grid_search.fit(X_train, y_train)\n",
    "\n",
    "# Найкращі гіперпараметри\n",
    "best_params = grid_search.best_params_\n",
    "print(\"Найкращі гіперпараметри для Lasso: \", best_params)\n",
    "\n",
    "# Найкраща модель\n",
    "best_model = grid_search.best_estimator_\n",
    "\n",
    "# Прогнозування на тестовому наборі\n",
    "y_pred = best_model.predict(X_test)\n",
    "\n",
    "# Оцінка моделі за допомогою R²\n",
    "r2 = r2_score(y_test, y_pred)\n",
    "print(\"Коефіцієнт детермінації (R²) для Lasso:\", r2)"
   ]
  },
  {
   "cell_type": "code",
   "execution_count": 20,
   "metadata": {},
   "outputs": [
    {
     "name": "stdout",
     "output_type": "stream",
     "text": [
      "Найкращі гіперпараметри для Decision Tree:  {'max_depth': 10, 'min_samples_leaf': 1}\n",
      "Коефіцієнт детермінації (R²) для Decision Tree: 0.9444454895127397\n"
     ]
    }
   ],
   "source": [
    "# Створення моделі дерева рішень\n",
    "tree = DecisionTreeRegressor(random_state=42)\n",
    "\n",
    "# Визначення діапазону гіперпараметрів для Grid Search\n",
    "param_grid = {\n",
    "    'max_depth': [None, 5, 10, 15, 20],\n",
    "    'min_samples_leaf': [1, 2, 4, 6, 8]\n",
    "}\n",
    "\n",
    "# Налаштування Grid Search\n",
    "grid_search = GridSearchCV(estimator=tree, param_grid=param_grid, cv=5, scoring='r2')\n",
    "\n",
    "# Навчання моделі з підбором гіперпараметрів\n",
    "grid_search.fit(X_train, y_train)\n",
    "\n",
    "# Найкращі гіперпараметри\n",
    "best_params = grid_search.best_params_\n",
    "print(\"Найкращі гіперпараметри для Decision Tree: \", best_params)\n",
    "\n",
    "# Найкраща модель\n",
    "best_model = grid_search.best_estimator_\n",
    "\n",
    "# Прогнозування на тестовому наборі\n",
    "y_pred = best_model.predict(X_test)\n",
    "\n",
    "# Оцінка моделі за допомогою R²\n",
    "r2 = r2_score(y_test, y_pred)\n",
    "print(\"Коефіцієнт детермінації (R²) для Decision Tree:\", r2)"
   ]
  },
  {
   "cell_type": "code",
   "execution_count": 7,
   "metadata": {},
   "outputs": [
    {
     "data": {
      "text/plain": [
       "['../models/regression_model.pkl']"
      ]
     },
     "execution_count": 7,
     "metadata": {},
     "output_type": "execute_result"
    }
   ],
   "source": [
    "# Збереження навченої моделі\n",
    "import joblib\n",
    "joblib.dump(model, \"../models/regression_model.pkl\")"
   ]
  }
 ],
 "metadata": {
  "kernelspec": {
   "display_name": "Python 3",
   "language": "python",
   "name": "python3"
  },
  "language_info": {
   "codemirror_mode": {
    "name": "ipython",
    "version": 3
   },
   "file_extension": ".py",
   "mimetype": "text/x-python",
   "name": "python",
   "nbconvert_exporter": "python",
   "pygments_lexer": "ipython3",
   "version": "3.9.6"
  }
 },
 "nbformat": 4,
 "nbformat_minor": 2
}
